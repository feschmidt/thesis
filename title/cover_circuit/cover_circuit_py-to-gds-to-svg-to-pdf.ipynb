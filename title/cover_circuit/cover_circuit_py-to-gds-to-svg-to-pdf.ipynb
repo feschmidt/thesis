{
 "cells": [
  {
   "cell_type": "markdown",
   "metadata": {},
   "source": [
    "Workflow:\n",
    "\n",
    "- run previously prepared python script: `!python cover_circuit.py`\n",
    "- manually adjust `cover_circuit.gds`, save as `cover_circuit_post.gds`\n",
    "- convert to `!python gds_to_svg.py`\n",
    "- open `nazca_export.svg`, replace all fill colors by CMYK <0,27,74,13>, save as `nazca_export_post.svg` and a copy as `nazca_export_post.pdf`"
   ]
  },
  {
   "cell_type": "code",
   "execution_count": 1,
   "metadata": {
    "ExecuteTime": {
     "end_time": "2020-04-15T13:19:57.544232Z",
     "start_time": "2020-04-15T13:19:55.490932Z"
    }
   },
   "outputs": [
    {
     "name": "stdout",
     "output_type": "stream",
     "text": [
      "Area of shunt base: 46500 um2\n",
      "Area of shunt dielectric: 155000 um2\n",
      "Area of shunt top: 144000 um2\n",
      "Input length: 6000.0\n",
      "Available xspace: 2585.0\n",
      "Resonator length: 6000.0\n",
      "Number of bends: 2\n",
      "Area of shunt base: 46500 um2\n",
      "Area of shunt dielectric: 155000 um2\n",
      "Area of shunt top: 144000 um2\n",
      "./\n",
      "Duplicate cell names that will be made unique: , shuntins, shuntbase, Shunt_Cap, shunttop\n",
      "Writing the following cells\n",
      "RESONATOR: Cell (\"RESONATOR\", 0 elements, 1 references)\n",
      "shunttop_EaB3wQ: Cell (\"shunttop\", 1 elements, 0 references)\n",
      "shuntbase_EZPYxQ: Cell (\"shuntbase\", 2 elements, 0 references)\n",
      "RF CELL: Cell (\"RF CELL\", 0 elements, 1 references)\n",
      "MAIN CELL: Cell (\"MAIN CELL\", 0 elements, 1 references)\n",
      "JJ BOX: Cell (\"JJ BOX\", 10 elements, 0 references)\n",
      "_EZ8wzQ: Cell (\"\", 51 elements, 0 references)\n",
      "cover_circuit: Cell (\"cover_circuit\", 1 elements, 2 references)\n",
      "CPW: Cell (\"CPW\", 0 elements, 1 references)\n",
      "Shunt_Cap_EaB3mQ: Cell (\"Shunt_Cap\", 1 elements, 3 references)\n",
      "_EaB3nQ: Cell (\"\", 3 elements, 0 references)\n",
      "shuntins_EZ8wnQ: Cell (\"shuntins\", 3 elements, 0 references)\n",
      "RF_FEED: Cell (\"RF_FEED\", 2 elements, 0 references)\n",
      "_EZ76IQ: Cell (\"\", 3 elements, 0 references)\n",
      "shuntbase_EaB3oQ: Cell (\"shuntbase\", 2 elements, 0 references)\n",
      "Shunt_Cap_EZ8wYQ: Cell (\"Shunt_Cap\", 1 elements, 3 references)\n",
      "shuntins_EaB3qQ: Cell (\"shuntins\", 3 elements, 0 references)\n",
      "_EYXaqQ: Cell (\"\", 3 elements, 0 references)\n",
      "RF_DC_BIAS: Cell (\"RF_DC_BIAS\", 0 elements, 7 references)\n",
      "shunttop_EZ8wvQ: Cell (\"shunttop\", 1 elements, 0 references)\n"
     ]
    }
   ],
   "source": [
    "!python cover_circuit.py"
   ]
  },
  {
   "cell_type": "code",
   "execution_count": 2,
   "metadata": {
    "ExecuteTime": {
     "end_time": "2020-04-15T13:20:00.803029Z",
     "start_time": "2020-04-15T13:19:57.549089Z"
    }
   },
   "outputs": [
    {
     "name": "stdout",
     "output_type": "stream",
     "text": [
      "Processing cover_circuit_post.gds\n",
      "cells.keys(): dict_keys(['cover_circuit'])\n",
      "...Wrote file 'nazca_export.svg'\n"
     ]
    }
   ],
   "source": [
    "!python gds_to_svg.py"
   ]
  }
 ],
 "metadata": {
  "kernelspec": {
   "display_name": "Python 3",
   "language": "python",
   "name": "python3"
  },
  "language_info": {
   "codemirror_mode": {
    "name": "ipython",
    "version": 3
   },
   "file_extension": ".py",
   "mimetype": "text/x-python",
   "name": "python",
   "nbconvert_exporter": "python",
   "pygments_lexer": "ipython3",
   "version": "3.7.4"
  },
  "toc": {
   "base_numbering": 1,
   "nav_menu": {},
   "number_sections": true,
   "sideBar": true,
   "skip_h1_title": false,
   "title_cell": "Table of Contents",
   "title_sidebar": "Contents",
   "toc_cell": false,
   "toc_position": {},
   "toc_section_display": true,
   "toc_window_display": false
  }
 },
 "nbformat": 4,
 "nbformat_minor": 2
}
