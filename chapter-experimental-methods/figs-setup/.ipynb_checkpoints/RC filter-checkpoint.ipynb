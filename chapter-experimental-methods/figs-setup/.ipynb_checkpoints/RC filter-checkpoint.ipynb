{
 "cells": [
  {
   "cell_type": "markdown",
   "metadata": {},
   "source": [
    "Transfer function of a single stage RC filter:\n",
    "\n",
    "\\begin{align}\n",
    "\\frac{V_{\\rm out}}{V_{\\rm in}} = \\frac{1}{1+i\\omega RC}\n",
    "\\end{align}"
   ]
  },
  {
   "cell_type": "markdown",
   "metadata": {},
   "source": [
    "Transfer function of a two stage RC filter:\n",
    "\n",
    "\\begin{align}\n",
    "\\frac{V_{\\rm out}}{V_{\\rm in}} = \\frac{1}{\\left(1+i\\omega R_1C_1\\right)\\left(1+i\\omega R_2C_2\\right)}\n",
    "\\end{align}\n"
   ]
  },
  {
   "cell_type": "code",
   "execution_count": 1,
   "metadata": {
    "ExecuteTime": {
     "end_time": "2020-03-18T22:57:24.185833Z",
     "start_time": "2020-03-18T22:57:24.178832Z"
    }
   },
   "outputs": [],
   "source": [
    "def S21(w,R1,C1,R2,C2):\n",
    "    return 1/((1+1j*w*R1*C1)*(1+1j*w*R2*C2))"
   ]
  },
  {
   "cell_type": "code",
   "execution_count": 2,
   "metadata": {
    "ExecuteTime": {
     "end_time": "2020-03-18T22:57:26.970683Z",
     "start_time": "2020-03-18T22:57:24.191362Z"
    }
   },
   "outputs": [],
   "source": [
    "import numpy as np\n",
    "from numpy import pi\n",
    "import matplotlib.pyplot as plt\n",
    "import seaborn as sns\n",
    "sns.set()\n",
    "sns.set_style('white')\n",
    "sns.set_style('ticks')"
   ]
  },
  {
   "cell_type": "code",
   "execution_count": 3,
   "metadata": {
    "ExecuteTime": {
     "end_time": "2020-03-18T22:57:26.982458Z",
     "start_time": "2020-03-18T22:57:26.974095Z"
    }
   },
   "outputs": [],
   "source": [
    "w=2*pi*np.logspace(3,6,401)\n",
    "R1,C1,R2,C2=470,10e-9,2e3,470e-12"
   ]
  },
  {
   "cell_type": "code",
   "execution_count": 4,
   "metadata": {
    "ExecuteTime": {
     "end_time": "2020-03-18T22:57:27.007348Z",
     "start_time": "2020-03-18T22:57:26.990539Z"
    }
   },
   "outputs": [],
   "source": [
    "vratio = S21(w,R1,C1,R2,C2)"
   ]
  },
  {
   "cell_type": "code",
   "execution_count": 5,
   "metadata": {
    "ExecuteTime": {
     "end_time": "2020-03-18T22:57:27.022527Z",
     "start_time": "2020-03-18T22:57:27.011655Z"
    }
   },
   "outputs": [],
   "source": [
    "from scipy.optimize import root,fsolve"
   ]
  },
  {
   "cell_type": "code",
   "execution_count": 6,
   "metadata": {
    "ExecuteTime": {
     "end_time": "2020-03-18T22:57:27.038805Z",
     "start_time": "2020-03-18T22:57:27.026897Z"
    }
   },
   "outputs": [],
   "source": [
    "def myfun(w):\n",
    "    return 20*np.log10(np.abs(S21(w,R1,C1,R2,C2)))-(-3)"
   ]
  },
  {
   "cell_type": "code",
   "execution_count": 7,
   "metadata": {
    "ExecuteTime": {
     "end_time": "2020-03-18T22:57:27.063993Z",
     "start_time": "2020-03-18T22:57:27.045584Z"
    }
   },
   "outputs": [
    {
     "data": {
      "text/plain": [
       "array([32552.93656147])"
      ]
     },
     "execution_count": 7,
     "metadata": {},
     "output_type": "execute_result"
    }
   ],
   "source": [
    "f3dB=fsolve(myfun,30e3)/2/pi\n",
    "f3dB"
   ]
  },
  {
   "cell_type": "code",
   "execution_count": 8,
   "metadata": {
    "ExecuteTime": {
     "end_time": "2020-03-18T22:57:28.501716Z",
     "start_time": "2020-03-18T22:57:27.069114Z"
    }
   },
   "outputs": [
    {
     "data": {
      "image/png": "[encoded data removed]",
      "text/plain": [
       "<Figure size 432x288 with 1 Axes>"
      ]
     },
     "metadata": {
      "needs_background": "light"
     },
     "output_type": "display_data"
    }
   ],
   "source": [
    "plt.plot(w/2/pi,20*np.log10(np.abs(vratio)))\n",
    "plt.axhline(-3,c='k',ls='--')\n",
    "plt.axvline(f3dB,c='C3')\n",
    "plt.xscale('log')"
   ]
  },
  {
   "cell_type": "code",
   "execution_count": 9,
   "metadata": {
    "ExecuteTime": {
     "end_time": "2020-03-18T22:57:29.577067Z",
     "start_time": "2020-03-18T22:57:28.505611Z"
    }
   },
   "outputs": [
    {
     "data": {
      "image/png": "[encoded data removed]",
      "text/plain": [
       "<Figure size 432x288 with 1 Axes>"
      ]
     },
     "metadata": {
      "needs_background": "light"
     },
     "output_type": "display_data"
    }
   ],
   "source": [
    "plt.plot(w/2/pi,np.angle(vratio))\n",
    "plt.axvline(f3dB,c='C3')\n",
    "plt.xscale('log')"
   ]
  },
  {
   "cell_type": "code",
   "execution_count": null,
   "metadata": {},
   "outputs": [],
   "source": []
  }
 ],
 "metadata": {
  "kernelspec": {
   "display_name": "Python 3",
   "language": "python",
   "name": "python3"
  },
  "language_info": {
   "codemirror_mode": {
    "name": "ipython",
    "version": 3
   },
   "file_extension": ".py",
   "mimetype": "text/x-python",
   "name": "python",
   "nbconvert_exporter": "python",
   "pygments_lexer": "ipython3",
   "version": "3.7.4"
  },
  "toc": {
   "base_numbering": 1,
   "nav_menu": {},
   "number_sections": true,
   "sideBar": true,
   "skip_h1_title": false,
   "title_cell": "Table of Contents",
   "title_sidebar": "Contents",
   "toc_cell": false,
   "toc_position": {},
   "toc_section_display": true,
   "toc_window_display": false
  }
 },
 "nbformat": 4,
 "nbformat_minor": 2
}
