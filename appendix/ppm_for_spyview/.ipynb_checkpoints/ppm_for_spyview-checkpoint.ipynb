{
 "cells": [
  {
   "cell_type": "markdown",
   "metadata": {
    "toc": true
   },
   "source": [
    "<h1>Table of Contents<span class=\"tocSkip\"></span></h1>\n",
    "<div class=\"toc\"><ul class=\"toc-item\"></ul></div>"
   ]
  },
  {
   "cell_type": "code",
   "execution_count": 5,
   "metadata": {
    "ExecuteTime": {
     "end_time": "2019-11-13T14:36:43.946425Z",
     "start_time": "2019-11-13T14:36:43.726182Z"
    }
   },
   "outputs": [],
   "source": [
    "import numpy as np\n",
    "from matplotlib import cm, pyplot\n",
    "import array"
   ]
  },
  {
   "cell_type": "code",
   "execution_count": 2,
   "metadata": {
    "ExecuteTime": {
     "end_time": "2019-11-13T14:36:01.817068Z",
     "start_time": "2019-11-13T14:36:01.811961Z"
    }
   },
   "outputs": [],
   "source": [
    "# PPM info\n",
    "width = 1\n",
    "height = 255\n",
    "maxval = 255"
   ]
  },
  {
   "cell_type": "code",
   "execution_count": 9,
   "metadata": {
    "ExecuteTime": {
     "end_time": "2019-11-13T14:40:56.208308Z",
     "start_time": "2019-11-13T14:40:54.268930Z"
    }
   },
   "outputs": [],
   "source": [
    "for cmap_name in pyplot.colormaps(): # all matplotlib colormaps\n",
    "    # get data from matplotlib colormap\n",
    "    cmap = cm.get_cmap(cmap_name)\n",
    "\n",
    "    cw_array = []\n",
    "    for xval in np.linspace(0,1,height):\n",
    "        cw_raw = list(np.rint(np.array(cmap(xval)[:3])*maxval).astype(int))\n",
    "        # from raw data only take RBG, not alpha\n",
    "        # convert to array for numerical treatment, *255 to go to RGB space, then convert array elements to int\n",
    "        cw_array.extend(cw_raw)\n",
    "\n",
    "    # PPM header\n",
    "    ppm_header = f'P6 {width} {height} {maxval}\\n'\n",
    "\n",
    "    # PPM image data (filled with blue)\n",
    "    image = array.array('B',cw_array)\n",
    "\n",
    "    # Save the PPM image as a binary file\n",
    "    with open(cmap_name+'.ppm', 'wb') as f:\n",
    "        f.write(bytearray(ppm_header, 'ascii'))\n",
    "        image.tofile(f)"
   ]
  },
  {
   "cell_type": "markdown",
   "metadata": {
    "ExecuteTime": {
     "end_time": "2019-11-13T14:36:01.847275Z",
     "start_time": "2019-11-13T14:36:01.842504Z"
    }
   },
   "source": [
    "To copy these files to the spyview location (on Ubuntu): `sudo cp *.ppm /usr/local/share/cmaps/user/`"
   ]
  },
  {
   "cell_type": "markdown",
   "metadata": {},
   "source": [
    "Sources:\n",
    "* [Stackexchange](https://stackoverflow.com/questions/25408393/getting-individual-colors-from-a-color-map-in-matplotlib)\n",
    "* [Solarian programmer](https://solarianprogrammer.com/2017/10/25/ppm-image-python-3/)"
   ]
  },
  {
   "cell_type": "code",
   "execution_count": null,
   "metadata": {},
   "outputs": [],
   "source": []
  }
 ],
 "metadata": {
  "kernelspec": {
   "display_name": "Python 3",
   "language": "python",
   "name": "python3"
  },
  "language_info": {
   "codemirror_mode": {
    "name": "ipython",
    "version": 3
   },
   "file_extension": ".py",
   "mimetype": "text/x-python",
   "name": "python",
   "nbconvert_exporter": "python",
   "pygments_lexer": "ipython3",
   "version": "3.6.8"
  },
  "toc": {
   "base_numbering": 1,
   "nav_menu": {},
   "number_sections": true,
   "sideBar": true,
   "skip_h1_title": false,
   "title_cell": "Table of Contents",
   "title_sidebar": "Contents",
   "toc_cell": true,
   "toc_position": {},
   "toc_section_display": true,
   "toc_window_display": false
  }
 },
 "nbformat": 4,
 "nbformat_minor": 2
}
